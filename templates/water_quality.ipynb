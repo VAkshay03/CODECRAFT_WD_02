# Import necessary libraries
import pandas as pd
import numpy as np
from sklearn.model_selection import train_test_split
from sklearn.ensemble import ExtratreeClassifier
from sklearn.preprocessing import StandardScaler
from sklearn.metrics import accuracy_score, classification_report
import joblib

# Step 1: Load Dataset
df = pd.read_csv("water_quality_data.csv")

# Step 2: Data Preprocessing
# Separate features (X) and target (y)
X = df.drop('quality', axis=1)  # Drop the target column
y = df['quality']  # Target column: 1 = Safe, 0 = Unsafe

# Split into training and testing datasets
X_train, X_test, y_train, y_test = train_test_split(X, y, test_size=0.2, random_state=42)

# Scale the features
scaler = StandardScaler()
X_train_scaled = scaler.fit_transform(X_train)
X_test_scaled = scaler.transform(X_test)

# Step 3: Train the Model
model = ExtratreeClassifier(random_state=42)
model.fit(X_train_scaled, y_train)

# Step 4: Evaluate the Model
y_pred = model.predict(X_test_scaled)
accuracy = accuracy_score(y_test, y_pred)
print("Model Accuracy:", accuracy)
print("Classification Report:\n", classification_report(y_test, y_pred))

# Step 5: Save the Model and Scaler
joblib.dump(model, 'model.pkl')  # Save the trained model
joblib.dump(scaler, 'my_scaler.save')  # Save the scaler
